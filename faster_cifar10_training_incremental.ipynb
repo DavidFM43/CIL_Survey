{
 "cells": [
  {
   "cell_type": "code",
   "execution_count": 1,
   "metadata": {},
   "outputs": [],
   "source": [
    "import torch\n",
    "from functools import partial\n",
    "import torch.nn as nn\n",
    "from torchvision import transforms\n",
    "import torch.nn.functional as F\n",
    "import torch.optim as optim\n",
    "import torchvision\n",
    "from tqdm import tqdm\n",
    "import matplotlib.pyplot as plt\n",
    "\n",
    "\n",
    "# reproducibility\n",
    "seed = 1993\n",
    "torch.manual_seed(1)\n",
    "torch.cuda.manual_seed(1)\n",
    "torch.cuda.manual_seed_all(1)\n",
    "torch.backends.cudnn.deterministic = True\n",
    "torch.backends.cudnn.benchmark = False\n",
    "device = 'cuda' if torch.cuda.is_available() else 'cpu'\n",
    "data_dir = \"/home/studio-lab-user/CIL_Survey/data\"\n"
   ]
  },
  {
   "cell_type": "markdown",
   "metadata": {},
   "source": [
    "## **Load and preprocess data**"
   ]
  },
  {
   "cell_type": "code",
   "execution_count": 2,
   "metadata": {},
   "outputs": [
    {
     "name": "stdout",
     "output_type": "stream",
     "text": [
      "Files already downloaded and verified\n",
      "Mean: ['0.5071', '0.4865', '0.4409']\n",
      "Std: ['0.2673', '0.2564', '0.2762']\n"
     ]
    }
   ],
   "source": [
    "train_dataset_gpu = {}\n",
    "eval_dataset_gpu = {}\n",
    "\n",
    "# dataset\n",
    "train = torchvision.datasets.CIFAR100(root=data_dir, download=True, transform=transforms.ToTensor())\n",
    "eval = torchvision.datasets.CIFAR100(root=data_dir, train=False, transform=transforms.ToTensor())\n",
    "\n",
    "# move dataset to gpu\n",
    "train_dataset_gpu_loader = torch.utils.data.DataLoader(train, batch_size=len(train), drop_last=True,\n",
    "                                            shuffle=True, num_workers=2, persistent_workers=False)\n",
    "eval_dataset_gpu_loader = torch.utils.data.DataLoader(eval, batch_size=len(eval), drop_last=True,\n",
    "                                            shuffle=False, num_workers=1, persistent_workers=False)\n",
    "train_dataset_gpu['images'], train_dataset_gpu['targets'] = [item.to(device=\"cuda\", non_blocking=True) for item in next(iter(train_dataset_gpu_loader))]\n",
    "eval_dataset_gpu['images'],  eval_dataset_gpu['targets']  = [item.to(device=\"cuda\", non_blocking=True) for item in next(iter(eval_dataset_gpu_loader)) ]\n",
    "\n",
    "# normalize images\n",
    "train_cifar_std, train_cifar_mean = torch.std_mean(train_dataset_gpu['images'], dim=(0, 2, 3)) \n",
    "print(f\"Mean: {[f'{x:.4f}' for x in train_cifar_mean.tolist()]}\")\n",
    "print(f\"Std: {[f'{x:.4f}' for x in train_cifar_std.tolist()]}\")\n",
    "def batch_normalize_images(input_images, mean, std):\n",
    "    return (input_images - mean.view(1, -1, 1, 1)) / std.view(1, -1, 1, 1)\n",
    "batch_normalize_images = partial(batch_normalize_images, mean=train_cifar_mean, std=train_cifar_std)\n",
    "train_dataset_gpu['images'] = batch_normalize_images(train_dataset_gpu['images'])\n",
    "eval_dataset_gpu['images']  = batch_normalize_images(eval_dataset_gpu['images'])\n",
    "\n",
    "data = {\n",
    "        'train': train_dataset_gpu,\n",
    "        'eval': eval_dataset_gpu\n",
    "    }\n",
    "\n",
    "# pad images for later random cropping\n",
    "pad_amount = 4\n",
    "data['train']['images'] = F.pad(data['train']['images'], (pad_amount,)*4, 'reflect')"
   ]
  },
  {
   "cell_type": "markdown",
   "metadata": {},
   "source": [
    "## **Load Model**"
   ]
  },
  {
   "cell_type": "code",
   "execution_count": 3,
   "metadata": {},
   "outputs": [],
   "source": [
    "from convs.cifar_resnet import resnet32\n",
    "\n",
    "# model \n",
    "# net = resnet32()\n",
    "# net = IncrementalNet(\"resnet32\", pretrained=False)\n",
    "net = torchvision.models.resnet18()\n",
    "net.to(device);  "
   ]
  },
  {
   "cell_type": "markdown",
   "metadata": {},
   "source": [
    "## **Data trasnformations**"
   ]
  },
  {
   "cell_type": "code",
   "execution_count": 4,
   "metadata": {},
   "outputs": [],
   "source": [
    "# transforms are:\n",
    "# random crop\n",
    "# random horizontal flip\n",
    "# random jitter\n",
    "\n",
    "## This is actually (I believe) a pretty clean implementation of how to do something like this, since shifted-square masks unique to each depth-channel can actually be rather\n",
    "## tricky in practice. That said, if there's a better way, please do feel free to submit it! This can be one of the harder parts of the code to understand (though I personally get\n",
    "## stuck on the fold/unfold process for the lower-level convolution calculations.\n",
    "def make_random_square_masks(inputs, mask_size):\n",
    "    ##### TODO: Double check that this properly covers the whole range of values. :'( :')\n",
    "    if mask_size == 0:\n",
    "        return None # no need to cutout or do anything like that since the patch_size is set to 0\n",
    "    is_even = int(mask_size % 2 == 0)\n",
    "    in_shape = inputs.shape\n",
    "\n",
    "    # seed centers of squares to cutout boxes from, in one dimension each\n",
    "    mask_center_y = torch.empty(in_shape[0], dtype=torch.long, device=inputs.device).random_(mask_size//2-is_even, in_shape[-2]-mask_size//2-is_even)\n",
    "    mask_center_x = torch.empty(in_shape[0], dtype=torch.long, device=inputs.device).random_(mask_size//2-is_even, in_shape[-1]-mask_size//2-is_even)\n",
    "\n",
    "    # measure distance, using the center as a reference point\n",
    "    to_mask_y_dists = torch.arange(in_shape[-2], device=inputs.device).view(1, 1, in_shape[-2], 1) - mask_center_y.view(-1, 1, 1, 1)\n",
    "    to_mask_x_dists = torch.arange(in_shape[-1], device=inputs.device).view(1, 1, 1, in_shape[-1]) - mask_center_x.view(-1, 1, 1, 1)\n",
    "\n",
    "    to_mask_y = (to_mask_y_dists >= (-(mask_size // 2) + is_even)) * (to_mask_y_dists <= mask_size // 2)\n",
    "    to_mask_x = (to_mask_x_dists >= (-(mask_size // 2) + is_even)) * (to_mask_x_dists <= mask_size // 2)\n",
    "\n",
    "    final_mask = to_mask_y * to_mask_x ## Turn (y by 1) and (x by 1) boolean masks into (y by x) masks through multiplication. Their intersection is square, hurray! :D\n",
    "\n",
    "    return final_mask\n",
    "\n",
    "def batch_crop(inputs, crop_size):\n",
    "    with torch.no_grad():\n",
    "        crop_mask_batch = make_random_square_masks(inputs, crop_size)\n",
    "        cropped_batch = torch.masked_select(inputs, crop_mask_batch).view(inputs.shape[0], inputs.shape[1], crop_size, crop_size)\n",
    "        return cropped_batch\n",
    "\n",
    "def batch_flip_lr(batch_images, flip_chance=.5):\n",
    "    with torch.no_grad():\n",
    "        # TODO: Is there a more elegant way to do this? :') :'((((\n",
    "        return torch.where(torch.rand_like(batch_images[:, 0, 0, 0].view(-1, 1, 1, 1)) < flip_chance, torch.flip(batch_images, (-1,)), batch_images)\n",
    "\n",
    "@torch.no_grad()\n",
    "def get_batches(data_dict, key, batchsize, indices, cutmix=False, cutmix_size=None):\n",
    "    # select subset of class indices \n",
    "    if indices is not None:\n",
    "        indices = torch.tensor(indices, device=device)\n",
    "        images, targets = data_dict[key][\"images\"], data_dict[key][\"targets\"] \n",
    "        samples = torch.isin(targets, indices)\n",
    "        images, targets = images[samples], targets[samples]\n",
    "        assert len(images) == len(targets)\n",
    "\n",
    "    num_epoch_examples = len(images)\n",
    "    shuffled = torch.randperm(num_epoch_examples, device=device)\n",
    "    crop_size = 32\n",
    "\n",
    "    ## Here, we prep the dataset by applying all data augmentations in batches ahead of time before each epoch, then we return an iterator below\n",
    "    ## that iterates in chunks over with a random derangement (i.e. shuffled indices) of the individual examples. So we get perfectly-shuffled\n",
    "    ## batches (which skip the last batch if it's not a full batch), but everything seems to be (and hopefully is! :D) properly shuffled. :)\n",
    "    if key == 'train':\n",
    "        images = batch_crop(images, crop_size) # TODO: hardcoded image size for now?\n",
    "        images = batch_flip_lr(images)\n",
    "        if cutmix:\n",
    "            images, targets = batch_cutmix(images, targets, patch_size=cutmix_size)\n",
    "\n",
    "    # # Send the images to an (in beta) channels_last to help improve tensor core occupancy (and reduce NCHW <-> NHWC thrash) during training\n",
    "    # images = images.to(memory_format=torch.channels_last)\n",
    "    for idx in range(num_epoch_examples // batchsize):\n",
    "        if not (idx+1)*batchsize > num_epoch_examples: ## Use the shuffled randperm to assemble individual items into a minibatch\n",
    "            yield images.index_select(0, shuffled[idx*batchsize:(idx+1)*batchsize]), \\\n",
    "                  targets.index_select(0, shuffled[idx*batchsize:(idx+1)*batchsize]) ## Each item is only used/accessed by the network once per epoch. :D\n"
   ]
  },
  {
   "cell_type": "markdown",
   "metadata": {},
   "source": [
    "## **Training and evaluation**"
   ]
  },
  {
   "cell_type": "code",
   "execution_count": 5,
   "metadata": {},
   "outputs": [
    {
     "name": "stderr",
     "output_type": "stream",
     "text": [
      "Task [1/20]: 100%|███████████████████████████████████████████████████████████████████████████████████████████| 200/200 [01:45<00:00,  1.90epoch/s, Train Loss=0.00422, Train Acc=99.9, Eval Loss=0.908, Eval Acc=82.8]\n",
      "Task [2/20]: 100%|███████████████████████████████████████████████████████████████████████████████████████████████| 80/80 [00:41<00:00,  1.92epoch/s, Train Loss=0.0164, Train Acc=98.9, Eval Loss=2.57, Eval Acc=44.4]\n",
      "Task [3/20]: 100%|██████████████████████████████████████████████████████████████████████████████████████████████| 80/80 [00:43<00:00,  1.85epoch/s, Train Loss=0.00916, Train Acc=99.5, Eval Loss=3.38, Eval Acc=30.2]\n",
      "Task [4/20]: 100%|███████████████████████████████████████████████████████████████████████████████████████████████| 80/80 [00:44<00:00,  1.79epoch/s, Train Loss=0.0104, Train Acc=99.5, Eval Loss=4.09, Eval Acc=21.4]\n",
      "Task [5/20]: 100%|███████████████████████████████████████████████████████████████████████████████████████████████| 80/80 [00:46<00:00,  1.73epoch/s, Train Loss=0.0129, Train Acc=98.9, Eval Loss=3.85, Eval Acc=19.6]\n",
      "Task [6/20]: 100%|███████████████████████████████████████████████████████████████████████████████████████████████| 80/80 [00:47<00:00,  1.68epoch/s, Train Loss=0.0149, Train Acc=99.5, Eval Loss=4.33, Eval Acc=15.4]\n",
      "Task [7/20]: 100%|██████████████████████████████████████████████████████████████████████████████████████████████| 80/80 [00:49<00:00,  1.63epoch/s, Train Loss=0.00779, Train Acc=99.6, Eval Loss=4.79, Eval Acc=13.5]\n",
      "Task [8/20]: 100%|██████████████████████████████████████████████████████████████████████████████████████████████| 80/80 [00:50<00:00,  1.58epoch/s, Train Loss=0.00767, Train Acc=99.6, Eval Loss=4.66, Eval Acc=11.9]\n",
      "Task [9/20]: 100%|██████████████████████████████████████████████████████████████████████████████████████████████| 80/80 [00:52<00:00,  1.53epoch/s, Train Loss=0.00863, Train Acc=99.6, Eval Loss=5.03, Eval Acc=10.3]\n",
      "Task [10/20]: 100%|█████████████████████████████████████████████████████████████████████████████████████████████| 80/80 [00:53<00:00,  1.49epoch/s, Train Loss=0.00343, Train Acc=99.5, Eval Loss=5.23, Eval Acc=9.64]\n",
      "Task [11/20]: 100%|█████████████████████████████████████████████████████████████████████████████████████████████| 80/80 [00:54<00:00,  1.46epoch/s, Train Loss=0.00434, Train Acc=99.9, Eval Loss=5.31, Eval Acc=8.69]\n",
      "Task [12/20]: 100%|██████████████████████████████████████████████████████████████████████████████████████████████| 80/80 [00:56<00:00,  1.42epoch/s, Train Loss=0.00818, Train Acc=99.8, Eval Loss=5.59, Eval Acc=7.8]\n",
      "Task [13/20]: 100%|███████████████████████████████████████████████████████████████████████████████████████████████| 80/80 [00:57<00:00,  1.38epoch/s, Train Loss=0.0047, Train Acc=99.7, Eval Loss=5.3, Eval Acc=7.98]\n",
      "Task [14/20]: 100%|█████████████████████████████████████████████████████████████████████████████████████████████| 80/80 [00:59<00:00,  1.35epoch/s, Train Loss=0.00649, Train Acc=99.7, Eval Loss=5.48, Eval Acc=6.57]\n",
      "Task [15/20]: 100%|█████████████████████████████████████████████████████████████████████████████████████████████| 80/80 [01:00<00:00,  1.32epoch/s, Train Loss=0.00684, Train Acc=98.9, Eval Loss=5.83, Eval Acc=6.51]\n",
      "Task [16/20]: 100%|█████████████████████████████████████████████████████████████████████████████████████████████| 80/80 [01:02<00:00,  1.29epoch/s, Train Loss=0.00831, Train Acc=99.6, Eval Loss=5.51, Eval Acc=5.85]\n",
      "Task [17/20]: 100%|█████████████████████████████████████████████████████████████████████████████████████████████| 80/80 [01:03<00:00,  1.26epoch/s, Train Loss=0.00562, Train Acc=99.8, Eval Loss=5.85, Eval Acc=5.56]\n",
      "Task [18/20]: 100%|██████████████████████████████████████████████████████████████████████████████████████████████| 80/80 [01:05<00:00,  1.23epoch/s, Train Loss=0.0127, Train Acc=98.9, Eval Loss=5.59, Eval Acc=5.27]\n",
      "Task [19/20]: 100%|█████████████████████████████████████████████████████████████████████████████████████████████| 80/80 [01:06<00:00,  1.20epoch/s, Train Loss=0.00728, Train Acc=99.7, Eval Loss=5.83, Eval Acc=5.14]\n",
      "Task [20/20]: 100%|█████████████████████████████████████████████████████████████████████████████████████████████| 80/80 [01:08<00:00,  1.17epoch/s, Train Loss=0.00404, Train Acc=99.9, Eval Loss=5.73, Eval Acc=5.15]\n",
      "100%|█████████████████████████████████████████████████████████████████████████████████████████████████████████████████████████████████████████████████████████████████████████████████| 20/20 [19:09<00:00, 57.49s/it]\n"
     ]
    }
   ],
   "source": [
    "# training\n",
    "def train(optimizer, first_task=True):\n",
    "    net.train()\n",
    "    train_loss = 0\n",
    "    correct = 0\n",
    "    total = 0\n",
    "    # pbar = tqdm(total=2500, desc=\"Train\", unit=\"img\", ncols=100)\n",
    "    for batch_idx, (inputs, targets) in enumerate(get_batches(data, \"train\", batch_size, indices=range(current_classes, current_classes + increment))):\n",
    "        optimizer.zero_grad()\n",
    "        outputs = net(inputs)\n",
    "        loss = criterion(outputs, targets) if first_task else criterion(outputs[:, current_classes:], targets - current_classes)\n",
    "\n",
    "        loss.backward()\n",
    "        optimizer.step()\n",
    "\n",
    "        train_loss += loss.item()\n",
    "        _, predicted = outputs.max(1)\n",
    "        total += len(targets)\n",
    "        correct += predicted.eq(targets).sum().item()\n",
    "\n",
    "        # pbar.update(len(inputs))\n",
    "    # pbar.set_postfix({\"Train Loss\": train_loss/(batch_idx+1), \"Train Acc\": 100.*correct/total})\n",
    "    # pbar.close()\n",
    "    return train_loss/(batch_idx + 1), 100.*correct/total\n",
    "\n",
    "\n",
    "def eval():\n",
    "    net.eval()\n",
    "    test_loss = 0\n",
    "    correct = 0\n",
    "    total = 0\n",
    "    # pbar = tqdm(total=500, desc=\"Eval\", unit=\"img\", ncols=100)\n",
    "    with torch.no_grad():\n",
    "        for batch_idx, (inputs, targets) in enumerate(get_batches(data, \"eval\", batch_size, indices=range(current_classes + increment))):\n",
    "            outputs = net(inputs)\n",
    "            loss = criterion(outputs, targets)\n",
    "\n",
    "            test_loss += loss.item()\n",
    "            _, predicted = outputs.max(1)\n",
    "            total += len(targets)\n",
    "            correct += predicted.eq(targets).sum().item()\n",
    "\n",
    "            # pbar.update(len(inputs))\n",
    "        # pbar.set_postfix({\"Eval Loss\": test_loss/(batch_idx+1), \"Eval Acc\": 100.*correct/total})\n",
    "        # pbar.close()\n",
    "\n",
    "    return test_loss/(batch_idx + 1), 100.*correct/total\n",
    "\n",
    "\n",
    "def incremental_train():\n",
    "    # update linear classifier\n",
    "    new_fc = nn.Linear(feature_dim, current_classes + increment, device=\"cuda\")\n",
    "    nn.init.kaiming_uniform_(new_fc.weight, nonlinearity='linear')\n",
    "    nn.init.constant_(new_fc.bias, 0)\n",
    "    if current_classes != 0:\n",
    "        old_fc = net.fc\n",
    "        new_fc.weight.data[:current_classes] = old_fc.weight\n",
    "        new_fc.bias.data[:current_classes] = old_fc.bias\n",
    "    net.fc = new_fc\n",
    "\n",
    "    # select optimize and scheduler\n",
    "    if current_classes == 0:\n",
    "        epochs = init_epochs\n",
    "        optimizer = optim.SGD(net.parameters(), momentum=0.9, lr=init_lr, weight_decay=init_weight_decay)\n",
    "        scheduler = torch.optim.lr_scheduler.CosineAnnealingLR(optimizer, T_max=epochs)\n",
    "    else: \n",
    "        epochs = rest_epochs\n",
    "        optimizer = optim.SGD(net.parameters(), momentum=0.9, lr=rest_lr, weight_decay=rest_weight_decay)\n",
    "        scheduler = optim.lr_scheduler.MultiStepLR(optimizer=optimizer, milestones=rest_milestones, gamma=rest_lr_decay)\n",
    "\n",
    "    pbar = tqdm(range(epochs), unit=\"epoch\", position=1)\n",
    "    pbar.set_description(f\"Task [{(current_classes + increment) // 5}/{20}]\")\n",
    "    for epoch in pbar:\n",
    "        tloss, tacc = train(optimizer, first_task=current_classes == 0)\n",
    "        eloss, eacc = eval()\n",
    "        scheduler.step()\n",
    "\n",
    "        # metrics \n",
    "        if epoch == epochs - 1:\n",
    "            tlosses.append(tloss)\n",
    "            taccs.append(tacc)\n",
    "            elosses.append(eloss)\n",
    "            eaccs.append(eacc)\n",
    "        pbar.set_postfix({\"Train Loss\": tloss, \"Train Acc\": tacc, \"Eval Loss\": eloss, \"Eval Acc\": eacc})\n",
    "\n",
    "\n",
    "tlosses, taccs = [], []\n",
    "elosses, eaccs = [], []\n",
    "\n",
    "\n",
    "criterion = nn.CrossEntropyLoss()\n",
    "increment = 5\n",
    "total_classes = 100 \n",
    "current_classes = 0 \n",
    "feature_dim = 512\n",
    "batch_size = 128\n",
    "\n",
    "# optimizer and scheduler config\n",
    "init_epochs = 200\n",
    "init_lr = 0.1\n",
    "init_weight_decay = 0.0005\n",
    "\n",
    "rest_epochs = 80\n",
    "rest_lr = 0.1\n",
    "rest_weight_decay = 2e-4\n",
    "rest_milestones = [40, 70]\n",
    "rest_lr_decay = 0.1\n",
    "\n",
    "\n",
    "pbar2 = tqdm(range(total_classes // increment), position=0)\n",
    "for i in pbar2:\n",
    "    incremental_train()\n",
    "    current_classes += increment"
   ]
  },
  {
   "cell_type": "markdown",
   "metadata": {},
   "source": [
    "## **Results**"
   ]
  },
  {
   "cell_type": "code",
   "execution_count": 6,
   "metadata": {},
   "outputs": [
    {
     "data": {
      "image/png": "[encoded data removed]",
      "text/plain": [
       "<Figure size 640x480 with 1 Axes>"
      ]
     },
     "metadata": {},
     "output_type": "display_data"
    }
   ],
   "source": [
    "plt.plot(tlosses, label=\"train\")\n",
    "plt.plot(elosses, label=\"test\")\n",
    "plt.title(\"Loss train vs test\")\n",
    "plt.legend()\n",
    "plt.plot();"
   ]
  },
  {
   "cell_type": "code",
   "execution_count": 7,
   "metadata": {},
   "outputs": [
    {
     "data": {
      "image/png": "[encoded data removed]",
      "text/plain": [
       "<Figure size 640x480 with 1 Axes>"
      ]
     },
     "metadata": {},
     "output_type": "display_data"
    }
   ],
   "source": [
    "plt.plot(taccs, label=\"train\")\n",
    "plt.plot(eaccs, label=\"test\")\n",
    "plt.title(\"Loss train vs eval\")\n",
    "plt.legend()\n",
    "plt.plot();"
   ]
  }
 ],
 "metadata": {
  "kernelspec": {
   "display_name": "torch",
   "language": "python",
   "name": "python3"
  },
  "language_info": {
   "codemirror_mode": {
    "name": "ipython",
    "version": 3
   },
   "file_extension": ".py",
   "mimetype": "text/x-python",
   "name": "python",
   "nbconvert_exporter": "python",
   "pygments_lexer": "ipython3",
   "version": "3.11.6"
  },
  "orig_nbformat": 4
 },
 "nbformat": 4,
 "nbformat_minor": 2
}
