{
 "cells": [
  {
   "cell_type": "markdown",
   "metadata": {},
   "source": [
    "# ¿How well does a metric learning approach do?"
   ]
  },
  {
   "cell_type": "code",
   "execution_count": 1,
   "metadata": {
    "tags": []
   },
   "outputs": [],
   "source": [
    "import torch\n",
    "from functools import partial\n",
    "import torch.nn as nn\n",
    "from torchvision import transforms\n",
    "import torch.nn.functional as F\n",
    "import torch.optim as optim\n",
    "import torchvision\n",
    "from tqdm import tqdm\n",
    "import matplotlib.pyplot as plt\n",
    "\n",
    "\n",
    "# reproducibility\n",
    "seed = 1993\n",
    "torch.manual_seed(1)\n",
    "torch.cuda.manual_seed(1)\n",
    "torch.cuda.manual_seed_all(1)\n",
    "torch.backends.cudnn.deterministic = True\n",
    "torch.backends.cudnn.benchmark = False\n",
    "device = 'cuda' if torch.cuda.is_available() else 'cpu'\n",
    "data_dir = \"./data\""
   ]
  },
  {
   "cell_type": "markdown",
   "metadata": {},
   "source": [
    "## Load and preprocess data"
   ]
  },
  {
   "cell_type": "code",
   "execution_count": 2,
   "metadata": {
    "tags": []
   },
   "outputs": [
    {
     "name": "stdout",
     "output_type": "stream",
     "text": [
      "Files already downloaded and verified\n",
      "Mean: ['0.5071', '0.4865', '0.4409']\n",
      "Std: ['0.2673', '0.2564', '0.2762']\n"
     ]
    }
   ],
   "source": [
    "train_dataset_gpu = {}\n",
    "eval_dataset_gpu = {}\n",
    "\n",
    "# dataset\n",
    "train = torchvision.datasets.CIFAR100(root=data_dir, download=True, transform=transforms.ToTensor())\n",
    "eval = torchvision.datasets.CIFAR100(root=data_dir, train=False, transform=transforms.ToTensor())\n",
    "\n",
    "# move dataset to gpu\n",
    "train_dataset_gpu_loader = torch.utils.data.DataLoader(train, batch_size=len(train), drop_last=True,\n",
    "                                            shuffle=True, num_workers=2, persistent_workers=False)\n",
    "eval_dataset_gpu_loader = torch.utils.data.DataLoader(eval, batch_size=len(eval), drop_last=True,\n",
    "                                            shuffle=False, num_workers=1, persistent_workers=False)\n",
    "train_dataset_gpu['images'], train_dataset_gpu['targets'] = [item.to(device=\"cuda\", non_blocking=True) for item in next(iter(train_dataset_gpu_loader))]\n",
    "eval_dataset_gpu['images'],  eval_dataset_gpu['targets']  = [item.to(device=\"cuda\", non_blocking=True) for item in next(iter(eval_dataset_gpu_loader)) ]\n",
    "\n",
    "# normalize images\n",
    "train_cifar_std, train_cifar_mean = torch.std_mean(train_dataset_gpu['images'], dim=(0, 2, 3)) \n",
    "print(f\"Mean: {[f'{x:.4f}' for x in train_cifar_mean.tolist()]}\")\n",
    "print(f\"Std: {[f'{x:.4f}' for x in train_cifar_std.tolist()]}\")\n",
    "def batch_normalize_images(input_images, mean, std):\n",
    "    return (input_images - mean.view(1, -1, 1, 1)) / std.view(1, -1, 1, 1)\n",
    "batch_normalize_images = partial(batch_normalize_images, mean=train_cifar_mean, std=train_cifar_std)\n",
    "train_dataset_gpu['images'] = batch_normalize_images(train_dataset_gpu['images'])\n",
    "eval_dataset_gpu['images']  = batch_normalize_images(eval_dataset_gpu['images'])\n",
    "\n",
    "data = {\n",
    "        'train': train_dataset_gpu,\n",
    "        'eval': eval_dataset_gpu\n",
    "    }\n",
    "\n",
    "# pad images for later random cropping\n",
    "pad_amount = 4\n",
    "data['train']['images'] = F.pad(data['train']['images'], (pad_amount,)*4, 'reflect')"
   ]
  },
  {
   "cell_type": "markdown",
   "metadata": {},
   "source": [
    "### Metric based data loading"
   ]
  },
  {
   "cell_type": "code",
   "execution_count": 3,
   "metadata": {
    "tags": []
   },
   "outputs": [],
   "source": [
    "from batch_transforms import batch_crop, batch_flip_lr\n",
    "\n",
    "@torch.no_grad()\n",
    "def get_batches(data_dict, key, batchsize, paired=True, indices=range(100)):\n",
    "    # select subset of class indices \n",
    "    indices = torch.tensor(indices, device=device)\n",
    "    images, targets = data_dict[key][\"images\"], data_dict[key][\"targets\"] \n",
    "    samples = torch.isin(targets, indices)\n",
    "    images, targets = images[samples], targets[samples]\n",
    "    \n",
    "    assert len(images) == len(targets)\n",
    "\n",
    "    num_epoch_examples = len(images)\n",
    "    shuffled = torch.randperm(num_epoch_examples, device=device)\n",
    "    crop_size = 32\n",
    "\n",
    "\n",
    "    # transforms\n",
    "    if key == 'train':\n",
    "        # shuffle the dataset\n",
    "        images = images[shuffled]\n",
    "        targets = targets[shuffled]\n",
    "        images = batch_crop(images, crop_size)\n",
    "        images = batch_flip_lr(images)\n",
    "\n",
    "    if paired: \n",
    "        # as we are going to pair up the images, we need the size of the dataset to be even\n",
    "        if len(images) % 2 != 0:\n",
    "            images = images[:-1]\n",
    "            targets = targets[:-1]\n",
    "        # pair up the dataset \n",
    "        targets = targets.reshape(num_epoch_examples // 2, 2)\n",
    "        binary_targets = torch.eq(targets[:,0], targets[:,1])\n",
    "        # we need that roughly 50% of the pairs are positive and negative\n",
    "        while binary_targets.float().mean() < 0.5:\n",
    "            # unpair the target and binary_targets\n",
    "            targets = targets.reshape(num_epoch_examples)  \n",
    "            binary_targets = torch.stack([binary_targets, binary_targets], 1).reshape(num_epoch_examples)\n",
    "            # get negative elements from negative pairs\n",
    "            neg = binary_targets == False\n",
    "            # permute them hoping some of them turn into positive pairs\n",
    "            perm = torch.randperm(len(binary_targets[neg]))\n",
    "            images[neg] = images[neg][perm]\n",
    "            targets[neg] = targets[neg][perm]\n",
    "            # re-pair the targets\n",
    "            targets = targets.reshape(num_epoch_examples // 2, 2)\n",
    "            binary_targets = torch.eq(targets[:,0], targets[:,1])\n",
    "        ## TODO: ensuring 50% distribtution takes much longer than before \n",
    "        ## without 50% -> 30 ms\n",
    "        ## with 50% -> 1 seg\n",
    "        \n",
    "        targets = targets.reshape(num_epoch_examples)  \n",
    "        images = images.reshape(num_epoch_examples // 2, 2, 3, images.shape[-1], images.shape[-2])\n",
    "        num_epoch_examples = len(images)\n",
    "\n",
    "    for idx in range(num_epoch_examples // batchsize):\n",
    "        if paired:\n",
    "            yield images[idx*batchsize: (idx+1)*batchsize, 0], images[idx*batchsize: (idx+1)*batchsize, 1],  binary_targets[idx*batchsize: (idx+1)*batchsize].int()\n",
    "        else: \n",
    "            yield images[idx*batchsize: (idx+1)*batchsize], targets[idx*batchsize: (idx+1)*batchsize]"
   ]
  },
  {
   "cell_type": "markdown",
   "metadata": {},
   "source": [
    "#### ¿How do I make sure that the implementation is correct?"
   ]
  },
  {
   "cell_type": "markdown",
   "metadata": {},
   "source": [
    "- ¿Are there any duplicated or overlapping pairs?\n",
    "    I think there are not since the pairs are selected by reshaping the original 1d-tensor of targets in a matrix with 2 rows, so if there were not any duplicates in the original tensor, then there must not be any duplicates in the pairs. "
   ]
  },
  {
   "cell_type": "code",
   "execution_count": 4,
   "metadata": {},
   "outputs": [
    {
     "name": "stdout",
     "output_type": "stream",
     "text": [
      "torch.Size([500, 3, 32, 32])\n",
      "tensor([1, 1, 1, 1, 1, 1, 1, 1, 1, 1, 1, 1, 1, 1, 1, 1, 1, 1, 1, 1, 1, 1, 1, 1,\n",
      "        1, 1, 1, 1, 1, 1, 1, 1, 1, 1, 1, 1, 1, 1, 1, 1, 1, 1, 1, 1, 1, 1, 1, 1,\n",
      "        1, 1, 1, 1, 1, 1, 1, 1, 1, 1, 1, 1, 1, 1, 1, 1, 1, 1, 1, 1, 1, 1, 1, 1,\n",
      "        1, 1, 1, 1, 1, 1, 1, 1, 1, 1, 1, 1, 1, 1, 1, 1, 1, 1, 1, 1, 1, 1, 1, 1,\n",
      "        1, 1, 1, 1, 1, 1, 1, 1, 1, 1, 1, 1, 1, 1, 1, 1, 1, 1, 1, 1, 1, 1, 1, 1,\n",
      "        1, 1, 1, 1, 1, 1, 1, 1, 1, 1, 1, 1, 1, 1, 1, 1, 1, 1, 1, 1, 1, 1, 1, 1,\n",
      "        1, 1, 1, 1, 1, 1, 1, 1, 1, 1, 1, 1, 1, 1, 1, 1, 1, 1, 1, 1, 1, 1, 1, 1,\n",
      "        1, 1, 1, 1, 1, 1, 1, 1, 1, 1, 1, 1, 1, 1, 1, 1, 1, 1, 1, 1, 1, 1, 1, 1,\n",
      "        1, 1, 1, 1, 1, 1, 1, 1, 1, 1, 1, 1, 1, 1, 1, 1, 1, 1, 1, 1, 1, 1, 1, 1,\n",
      "        1, 1, 1, 1, 1, 1, 1, 1, 1, 1, 1, 1, 1, 1, 1, 1, 1, 1, 1, 1, 1, 1, 1, 1,\n",
      "        1, 1, 1, 1, 1, 1, 1, 1, 1, 1, 1, 1, 1, 1, 1, 1, 1, 1, 1, 1, 1, 1, 1, 1,\n",
      "        1, 1, 1, 1, 1, 1, 1, 1, 1, 1, 1, 1, 1, 1, 1, 1, 1, 1, 1, 1, 1, 1, 1, 1,\n",
      "        1, 1, 1, 1, 1, 1, 1, 1, 1, 1, 1, 1, 1, 1, 1, 1, 1, 1, 1, 1, 1, 1, 1, 1,\n",
      "        1, 1, 1, 1, 1, 1, 1, 1, 1, 1, 1, 1, 1, 1, 1, 1, 1, 1, 1, 1, 1, 1, 1, 1,\n",
      "        1, 1, 1, 1, 1, 1, 1, 1, 1, 1, 1, 1, 1, 1, 1, 1, 1, 1, 1, 1, 1, 1, 1, 1,\n",
      "        1, 1, 1, 1, 1, 1, 1, 1, 1, 1, 1, 1, 1, 1, 1, 1, 1, 1, 1, 1, 1, 1, 1, 1,\n",
      "        1, 1, 1, 1, 1, 1, 1, 1, 1, 1, 1, 1, 1, 1, 1, 1, 1, 1, 1, 1, 1, 1, 1, 1,\n",
      "        1, 1, 1, 1, 1, 1, 1, 1, 1, 1, 1, 1, 1, 1, 1, 1, 1, 1, 1, 1, 1, 1, 1, 1,\n",
      "        1, 1, 1, 1, 1, 1, 1, 1, 1, 1, 1, 1, 1, 1, 1, 1, 1, 1, 1, 1, 1, 1, 1, 1,\n",
      "        1, 1, 1, 1, 1, 1, 1, 1, 1, 1, 1, 1, 1, 1, 1, 1, 1, 1, 1, 1, 1, 1, 1, 1,\n",
      "        1, 1, 1, 1, 1, 1, 1, 1, 1, 1, 1, 1, 1, 1, 1, 1, 1, 1, 1, 1],\n",
      "       device='cuda:0')\n"
     ]
    }
   ],
   "source": [
    "for x, y in get_batches(data, \"train\", 500, paired=False, indices=1):\n",
    "    print(x.shape)\n",
    "    print(y)"
   ]
  },
  {
   "cell_type": "code",
   "execution_count": 5,
   "metadata": {
    "tags": []
   },
   "outputs": [
    {
     "name": "stdout",
     "output_type": "stream",
     "text": [
      "CPU times: user 8.91 ms, sys: 3.14 ms, total: 12 ms\n",
      "Wall time: 10.9 ms\n"
     ]
    }
   ],
   "source": [
    "%%time \n",
    "\n",
    "for x1, x2, y in get_batches(data, \"train\", 128, indices=range(5)):\n",
    "    pass"
   ]
  },
  {
   "cell_type": "code",
   "execution_count": 6,
   "metadata": {},
   "outputs": [
    {
     "name": "stdout",
     "output_type": "stream",
     "text": [
      "torch.Size([128, 3, 32, 32])\n",
      "torch.Size([128, 3, 32, 32])\n"
     ]
    }
   ],
   "source": [
    "print(x1.shape)\n",
    "print(x2.shape)"
   ]
  },
  {
   "cell_type": "code",
   "execution_count": 7,
   "metadata": {},
   "outputs": [
    {
     "name": "stdout",
     "output_type": "stream",
     "text": [
      "tensor([0, 0, 0, 1, 1, 1, 1, 1, 1, 1, 0, 1, 0, 1, 1, 1, 1, 0, 1, 0, 1, 1, 0, 0,\n",
      "        0, 1, 1, 1, 1, 1, 0, 0, 1, 1, 1, 1, 0, 0, 0, 1, 1, 0, 0, 1, 0, 1, 1, 1,\n",
      "        0, 1, 1, 0, 0, 1, 0, 0, 0, 0, 0, 0, 1, 0, 1, 1, 0, 0, 1, 0, 0, 1, 0, 0,\n",
      "        0, 0, 1, 0, 1, 1, 0, 0, 1, 1, 1, 1, 1, 0, 1, 1, 0, 1, 1, 0, 0, 1, 0, 1,\n",
      "        1, 1, 0, 0, 1, 0, 0, 1, 1, 0, 0, 1, 1, 0, 0, 1, 0, 0, 0, 1, 1, 0, 1, 1,\n",
      "        1, 0, 1, 0, 0, 1, 0, 1], device='cuda:0', dtype=torch.int32)\n"
     ]
    }
   ],
   "source": [
    "print(y)"
   ]
  },
  {
   "cell_type": "code",
   "execution_count": 8,
   "metadata": {},
   "outputs": [],
   "source": [
    "idx = 0"
   ]
  },
  {
   "cell_type": "code",
   "execution_count": 9,
   "metadata": {},
   "outputs": [
    {
     "name": "stdout",
     "output_type": "stream",
     "text": [
      "0\n"
     ]
    },
    {
     "data": {
      "image/png": "[encoded data removed]",
      "text/plain": [
       "<PIL.Image.Image image mode=RGB size=32x32>"
      ]
     },
     "metadata": {},
     "output_type": "display_data"
    },
    {
     "data": {
      "image/png": "[encoded data removed]",
      "text/plain": [
       "<PIL.Image.Image image mode=RGB size=32x32>"
      ]
     },
     "metadata": {},
     "output_type": "display_data"
    },
    {
     "name": "stdout",
     "output_type": "stream",
     "text": [
      "tensor(0, device='cuda:0', dtype=torch.int32)\n"
     ]
    }
   ],
   "source": [
    "from torchvision.transforms.functional import to_pil_image\n",
    "idx_to_class = {i:c for c,i in train.class_to_idx.items()}\n",
    "\n",
    "print(idx)\n",
    "display(to_pil_image(x1[idx]))\n",
    "display(to_pil_image(x2[idx]))\n",
    "\n",
    "print(y[idx])\n",
    "# print([idx_to_class[i] for i in y[idx].tolist()])\n",
    "idx += 1"
   ]
  },
  {
   "cell_type": "code",
   "execution_count": 10,
   "metadata": {
    "tags": []
   },
   "outputs": [],
   "source": [
    "# %%time \n",
    "\n",
    "# for x, y in old_get_batches(data, \"train\", 128):\n",
    "#     y"
   ]
  },
  {
   "cell_type": "markdown",
   "metadata": {},
   "source": [
    "## Implement siamese network"
   ]
  },
  {
   "cell_type": "markdown",
   "metadata": {},
   "source": [
    "### Model definition"
   ]
  },
  {
   "cell_type": "code",
   "execution_count": 11,
   "metadata": {},
   "outputs": [],
   "source": [
    "from torch import nn\n",
    "from torchvision.models import resnet18\n",
    "\n",
    "class SiameseNetwork(nn.Module):\n",
    "    def __init__(self):\n",
    "        super().__init__()\n",
    "        self.conv = resnet18()\n",
    "        self.ndim = self.conv.fc.in_features\n",
    "        self.conv = nn.Sequential(*list(resnet18().children())[:-1])\n",
    "        self.fc = nn.Sequential(\n",
    "            nn.Linear(self.ndim, 1024),\n",
    "            nn.ReLU(inplace=True),\n",
    "            nn.Linear(1024, 256),\n",
    "            nn.ReLU(inplace=True),\n",
    "            nn.Linear(256, 2),\n",
    "        )\n",
    "     \n",
    "    def forward_once(self, x):\n",
    "        x = self.conv(x)         # (bs, ndim, 1, 1)\n",
    "        x = torch.flatten(x, 1)  # (bs, ndim)\n",
    "        x = self.fc(x)           # (bs, 2)\n",
    "        return x \n",
    "\n",
    "    def forward(self, input1, input2):\n",
    "        output1 = self.forward_once(input1)  # (bs, 2)\n",
    "        output2 = self.forward_once(input2)  # (bs, 2)\n",
    "        return output1, output2\n",
    "\n"
   ]
  },
  {
   "cell_type": "code",
   "execution_count": 12,
   "metadata": {},
   "outputs": [],
   "source": [
    "net = SiameseNetwork()\n",
    "net.to(device);"
   ]
  },
  {
   "cell_type": "markdown",
   "metadata": {},
   "source": [
    "### Classification Mechanism"
   ]
  },
  {
   "cell_type": "code",
   "execution_count": 13,
   "metadata": {},
   "outputs": [],
   "source": [
    "def classify(x, embs):\n",
    "    input_embs = net.forward_once(x)\n",
    "    ds = torch.cdist(input_embs, embs, p=2.0) \n",
    "    preds = torch.argmin(ds, 1)\n",
    "    return preds"
   ]
  },
  {
   "cell_type": "markdown",
   "metadata": {},
   "source": [
    "## Train model"
   ]
  },
  {
   "cell_type": "markdown",
   "metadata": {},
   "source": [
    "### Loss function"
   ]
  },
  {
   "cell_type": "code",
   "execution_count": 14,
   "metadata": {},
   "outputs": [],
   "source": [
    "class ContrastiveLoss(torch.nn.Module):\n",
    "    def __init__(self, margin=2.0):\n",
    "        super(ContrastiveLoss, self).__init__()\n",
    "        self.margin = margin\n",
    "\n",
    "    def forward(self, x0, x1, y):\n",
    "        # euclidian distance\n",
    "        diff = x0 - x1\n",
    "        dist_sq = torch.sum(torch.pow(diff, 2), 1)\n",
    "        dist = torch.sqrt(dist_sq)\n",
    "\n",
    "        mdist = self.margin - dist\n",
    "        dist = torch.clamp(mdist, min=0.0)\n",
    "        loss = y * dist_sq + (1 - y) * torch.pow(dist, 2)\n",
    "        loss = loss.mean()\n",
    "        return loss"
   ]
  },
  {
   "cell_type": "code",
   "execution_count": 15,
   "metadata": {},
   "outputs": [],
   "source": [
    "criterion = ContrastiveLoss()"
   ]
  },
  {
   "cell_type": "markdown",
   "metadata": {},
   "source": [
    "### Train and eval methods"
   ]
  },
  {
   "cell_type": "code",
   "execution_count": 16,
   "metadata": {},
   "outputs": [],
   "source": [
    "def train(optimizer, task):\n",
    "    net.train()\n",
    "    train_loss = 0\n",
    "    indices = range(increment * task, increment * (task + 1))\n",
    "    # pbar = tqdm(total=2500, ncols=150)\n",
    "    for batch_idx, (inputs1, inputs2, targets) in enumerate(get_batches(data, \"train\", batch_size, indices=indices)):\n",
    "        optimizer.zero_grad()\n",
    "        outputs1, outputs2 = net(inputs1, inputs2) # (bs, 2), (bs, 2)\n",
    "        loss = criterion(outputs1, outputs2, targets) \n",
    "\n",
    "        loss.backward()\n",
    "        optimizer.step()\n",
    "\n",
    "        train_loss += loss.item()\n",
    "        # pbar.update(len(targets))\n",
    "        # pbar.set_postfix({\"loss\": train_loss / (batch_idx + 1)})\n",
    "        \n",
    "\n",
    "    return train_loss/(batch_idx + 1)\n",
    "\n",
    "def eval(task):\n",
    "    net.eval()\n",
    "    test_loss = 0\n",
    "    indices = range(increment * task, increment * (task + 1))\n",
    "    with torch.no_grad():\n",
    "        for batch_idx, (inputs1, inputs2, targets) in enumerate(get_batches(data, \"eval\", batch_size, indices=indices)):\n",
    "            outputs1, outputs2 = net(inputs1, inputs2)\n",
    "            loss = criterion(outputs1, outputs2, targets)\n",
    "            test_loss += loss.item()\n",
    "        return test_loss/(batch_idx + 1)\n",
    "\n",
    "def mean_embeddings(net, task):\n",
    "    mean_embs = torch.zeros(increment, 2, device=device)\n",
    "    for idx in range(task*increment, (task+1)*increment):\n",
    "        x, _ = next(get_batches(data, \"train\", 500, paired=False, indices=idx))\n",
    "        emb = net.forward_once(x) # (500, 2)\n",
    "        mean_emb = emb.mean(0)\n",
    "        mean_embs[idx - increment*task] = mean_emb\n",
    "        \n",
    "    return mean_embs"
   ]
  },
  {
   "cell_type": "markdown",
   "metadata": {},
   "source": [
    "### Incremental training"
   ]
  },
  {
   "cell_type": "code",
   "execution_count": 17,
   "metadata": {},
   "outputs": [],
   "source": [
    "increment = 5\n",
    "total_classes = 100 \n",
    "batch_size = 128\n",
    "\n",
    "# optimizer and scheduler config\n",
    "init_epochs = 200\n",
    "init_lr = 0.1\n",
    "init_weight_decay = 0.0005\n",
    "\n",
    "rest_epochs = 80\n",
    "rest_lr = 0.1\n",
    "rest_weight_decay = 2e-4\n",
    "rest_milestones = [40, 70]\n",
    "rest_lr_decay = 0.1"
   ]
  },
  {
   "cell_type": "code",
   "execution_count": 18,
   "metadata": {},
   "outputs": [],
   "source": [
    "def incremental_train(task):\n",
    "    tlosses = []\n",
    "    elosses = []\n",
    "    # select optimize and scheduler\n",
    "    if task == 0:\n",
    "        epochs = init_epochs\n",
    "        optimizer = optim.Adam(net.parameters(), lr=0.0005)\n",
    "        # optimizer = optim.SGD(net.parameters(), momentum=0.9, lr=init_lr, weight_decay=init_weight_decay)\n",
    "        # scheduler = torch.optim.lr_scheduler.CosineAnnealingLR(optimizer, T_max=epochs)\n",
    "    else: \n",
    "        epochs = rest_epochs\n",
    "        optimizer = optim.Adam(net.parameters(), lr=0.0005)\n",
    "        # optimizer = optim.SGD(net.parameters(), momentum=0.9, lr=rest_lr, weight_decay=rest_weight_decay)\n",
    "        # scheduler = optim.lr_scheduler.MultiStepLR(optimizer=optimizer, milestones=rest_milestones, gamma=rest_lr_decay)\n",
    "\n",
    "    pbar = tqdm(range(epochs), ncols=150, unit=\"epoch\")\n",
    "    for epoch in pbar:\n",
    "        tloss = train(optimizer, task)\n",
    "        eloss = eval(task)\n",
    "        tlosses.append(tloss)\n",
    "        elosses.append(eloss)\n",
    "        # scheduler.step()\n",
    "        pbar.set_postfix({\"Train Loss\": tloss, \"Eval Acc\": eloss})\n",
    "    embds = mean_embeddings(net, task)\n",
    "\n",
    "    return tlosses, elosses, embds"
   ]
  },
  {
   "cell_type": "markdown",
   "metadata": {},
   "source": [
    "#### First task training"
   ]
  },
  {
   "cell_type": "code",
   "execution_count": 19,
   "metadata": {},
   "outputs": [
    {
     "name": "stderr",
     "output_type": "stream",
     "text": [
      "100%|██████████████████████████████████████████████████████████████████████████| 200/200 [01:38<00:00,  2.02epoch/s, Train Loss=0.247, Eval Acc=0.606]\n"
     ]
    }
   ],
   "source": [
    "tlosses, elosses, embs = incremental_train(task=0)"
   ]
  },
  {
   "cell_type": "code",
   "execution_count": 20,
   "metadata": {},
   "outputs": [
    {
     "data": {
      "image/png": "[encoded data removed]",
      "text/plain": [
       "<Figure size 640x480 with 1 Axes>"
      ]
     },
     "metadata": {},
     "output_type": "display_data"
    }
   ],
   "source": [
    "plt.plot(tlosses, label=\"train\")\n",
    "plt.plot(elosses, label=\"test\")\n",
    "plt.title(\"Loss train vs test\")\n",
    "plt.legend()\n",
    "plt.plot();"
   ]
  },
  {
   "cell_type": "code",
   "execution_count": 21,
   "metadata": {},
   "outputs": [
    {
     "data": {
      "text/plain": [
       "tensor([[ 1.5506,  0.0808],\n",
       "        [-0.1101,  1.3095],\n",
       "        [ 0.2191, -1.1643],\n",
       "        [-1.3559, -0.2310],\n",
       "        [-1.3232,  0.0875]], device='cuda:0', grad_fn=<CopySlices>)"
      ]
     },
     "execution_count": 21,
     "metadata": {},
     "output_type": "execute_result"
    }
   ],
   "source": [
    "embs"
   ]
  },
  {
   "cell_type": "code",
   "execution_count": 22,
   "metadata": {},
   "outputs": [
    {
     "name": "stdout",
     "output_type": "stream",
     "text": [
      "torch.Size([500, 3, 32, 32])\n",
      "torch.Size([500])\n",
      "tensor([0, 4, 2, 0, 1, 4, 4, 4, 2, 0, 0, 4, 1, 2, 0, 3, 3, 2, 2, 2, 0, 4, 0, 3,\n",
      "        2, 2, 1, 2, 3, 1, 4, 0, 0, 3, 0, 1, 1, 1, 1, 0, 1, 3, 4, 0, 1, 1, 2, 2,\n",
      "        3, 2, 2, 0, 1, 0, 3, 2, 3, 1, 4, 1, 1, 0, 2, 2, 3, 3, 3, 0, 0, 4, 1, 0,\n",
      "        4, 4, 3, 2, 3, 3, 3, 3, 2, 2, 3, 2, 0, 3, 3, 1, 1, 2, 1, 3, 2, 4, 3, 0,\n",
      "        4, 2, 2, 1, 3, 4, 0, 3, 2, 4, 3, 2, 4, 0, 4, 3, 0, 3, 1, 2, 1, 0, 3, 0,\n",
      "        1, 3, 0, 0, 4, 3, 4, 0, 4, 2, 3, 2, 4, 2, 2, 4, 2, 4, 3, 1, 4, 3, 0, 3,\n",
      "        4, 1, 3, 2, 0, 0, 2, 0, 3, 3, 0, 1, 3, 1, 4, 3, 2, 3, 1, 4, 4, 1, 4, 2,\n",
      "        3, 0, 1, 3, 2, 1, 0, 1, 0, 3, 0, 4, 2, 2, 2, 2, 3, 3, 0, 1, 4, 0, 1, 0,\n",
      "        4, 0, 0, 0, 1, 3, 3, 4, 1, 4, 1, 1, 1, 2, 2, 2, 0, 3, 4, 0, 1, 3, 4, 2,\n",
      "        0, 3, 1, 4, 0, 0, 3, 1, 1, 2, 2, 0, 4, 1, 1, 3, 2, 4, 4, 3, 0, 1, 1, 0,\n",
      "        0, 3, 1, 4, 0, 1, 4, 4, 3, 2, 4, 0, 4, 0, 4, 4, 1, 2, 3, 3, 0, 3, 0, 3,\n",
      "        2, 0, 3, 4, 1, 0, 1, 4, 2, 2, 1, 2, 4, 3, 0, 0, 1, 2, 3, 0, 4, 1, 4, 1,\n",
      "        2, 2, 0, 0, 0, 0, 1, 1, 2, 0, 3, 4, 0, 4, 4, 2, 4, 2, 0, 2, 0, 1, 1, 2,\n",
      "        3, 2, 2, 2, 2, 2, 0, 4, 3, 4, 2, 3, 1, 2, 1, 2, 4, 4, 2, 1, 4, 3, 4, 2,\n",
      "        0, 0, 4, 1, 4, 0, 2, 3, 0, 3, 4, 1, 1, 2, 3, 1, 2, 2, 4, 0, 1, 4, 1, 4,\n",
      "        2, 0, 3, 1, 4, 4, 0, 3, 0, 3, 1, 3, 2, 3, 1, 3, 2, 4, 4, 2, 0, 1, 4, 3,\n",
      "        1, 1, 0, 4, 0, 2, 3, 1, 4, 0, 3, 2, 2, 3, 3, 4, 0, 3, 1, 0, 0, 0, 0, 0,\n",
      "        2, 1, 1, 2, 4, 1, 4, 4, 4, 2, 1, 1, 4, 1, 0, 1, 0, 4, 1, 1, 3, 1, 0, 1,\n",
      "        1, 1, 4, 2, 2, 4, 2, 2, 4, 3, 3, 4, 3, 4, 0, 0, 3, 4, 4, 3, 1, 0, 0, 2,\n",
      "        3, 2, 4, 3, 2, 1, 2, 2, 3, 3, 0, 1, 3, 2, 3, 1, 4, 1, 1, 1, 3, 1, 2, 2,\n",
      "        4, 3, 4, 4, 1, 3, 4, 3, 4, 0, 4, 2, 0, 1, 2, 0, 4, 3, 4, 3],\n",
      "       device='cuda:0')\n"
     ]
    }
   ],
   "source": [
    "x, y = next(get_batches(data, \"eval\", batchsize=500,paired=False, indices=range(5)))\n",
    "print(x.shape)\n",
    "print(y.shape)\n",
    "print(y)"
   ]
  },
  {
   "cell_type": "code",
   "execution_count": 23,
   "metadata": {},
   "outputs": [
    {
     "data": {
      "text/plain": [
       "tensor([0, 4, 2, 0, 1, 4, 4, 4, 2, 0, 0, 3, 1, 2, 0, 4, 4, 4, 2, 2, 0, 4, 0, 3,\n",
       "        1, 2, 2, 2, 3, 1, 4, 0, 0, 3, 2, 1, 1, 1, 1, 1, 1, 4, 4, 0, 1, 1, 2, 0,\n",
       "        3, 2, 2, 0, 3, 0, 3, 2, 4, 1, 4, 4, 1, 0, 2, 2, 3, 3, 3, 0, 0, 4, 1, 0,\n",
       "        4, 4, 4, 4, 3, 3, 3, 2, 4, 2, 4, 2, 0, 3, 3, 2, 1, 2, 1, 4, 2, 4, 3, 0,\n",
       "        4, 2, 2, 1, 3, 4, 0, 3, 2, 4, 4, 2, 4, 0, 3, 3, 0, 3, 4, 2, 1, 0, 4, 0,\n",
       "        1, 3, 0, 0, 3, 4, 2, 0, 2, 2, 2, 4, 4, 2, 2, 4, 2, 1, 4, 1, 4, 3, 0, 3,\n",
       "        4, 1, 4, 2, 0, 0, 2, 0, 3, 4, 0, 2, 4, 1, 3, 4, 2, 3, 1, 4, 3, 1, 4, 2,\n",
       "        3, 0, 1, 3, 2, 1, 0, 1, 0, 3, 0, 4, 2, 2, 3, 0, 4, 4, 0, 1, 3, 0, 1, 0,\n",
       "        3, 0, 0, 0, 1, 3, 4, 4, 4, 4, 1, 1, 1, 2, 2, 2, 0, 3, 4, 0, 1, 4, 4, 2,\n",
       "        0, 3, 1, 3, 0, 2, 4, 1, 1, 2, 2, 0, 3, 1, 1, 4, 2, 4, 4, 3, 0, 1, 1, 3,\n",
       "        2, 3, 1, 4, 0, 1, 4, 4, 4, 0, 4, 0, 4, 0, 4, 3, 1, 2, 3, 4, 0, 3, 0, 3,\n",
       "        2, 0, 3, 4, 1, 0, 1, 3, 2, 2, 1, 2, 4, 3, 0, 0, 1, 2, 4, 0, 4, 1, 4, 1,\n",
       "        2, 2, 0, 0, 0, 0, 1, 1, 2, 0, 4, 4, 0, 4, 4, 2, 4, 2, 2, 2, 0, 1, 1, 2,\n",
       "        3, 2, 2, 2, 2, 2, 0, 4, 3, 3, 2, 4, 1, 2, 1, 2, 4, 3, 2, 1, 2, 3, 4, 2,\n",
       "        0, 0, 4, 1, 4, 2, 2, 4, 0, 3, 3, 1, 1, 2, 3, 1, 2, 2, 4, 0, 1, 4, 1, 4,\n",
       "        2, 0, 4, 1, 4, 4, 0, 4, 0, 4, 1, 3, 2, 4, 1, 3, 2, 4, 4, 2, 0, 1, 1, 3,\n",
       "        1, 1, 1, 3, 0, 2, 3, 1, 4, 0, 3, 2, 1, 4, 4, 3, 2, 3, 1, 0, 0, 0, 0, 0,\n",
       "        2, 1, 1, 2, 3, 0, 4, 4, 4, 2, 1, 1, 4, 1, 0, 1, 0, 4, 1, 1, 4, 1, 0, 1,\n",
       "        1, 0, 4, 2, 0, 4, 3, 1, 4, 3, 0, 4, 3, 3, 1, 0, 3, 3, 3, 2, 1, 0, 0, 2,\n",
       "        3, 2, 4, 4, 2, 1, 2, 2, 3, 4, 0, 1, 3, 2, 4, 1, 3, 1, 1, 1, 3, 1, 2, 1,\n",
       "        4, 3, 4, 3, 1, 4, 4, 3, 2, 0, 3, 2, 0, 1, 2, 0, 4, 4, 4, 4],\n",
       "       device='cuda:0')"
      ]
     },
     "execution_count": 23,
     "metadata": {},
     "output_type": "execute_result"
    }
   ],
   "source": [
    "pred = classify(x, embs)\n",
    "pred"
   ]
  },
  {
   "cell_type": "code",
   "execution_count": 24,
   "metadata": {},
   "outputs": [],
   "source": [
    "def accuracy(pred, y):\n",
    "    assert pred.shape == y.shape\n",
    "    correct = (pred == y).sum()\n",
    "    total = len(pred)\n",
    "    return correct / total "
   ]
  },
  {
   "cell_type": "code",
   "execution_count": 25,
   "metadata": {},
   "outputs": [
    {
     "data": {
      "text/plain": [
       "tensor(0.7880, device='cuda:0')"
      ]
     },
     "execution_count": 25,
     "metadata": {},
     "output_type": "execute_result"
    }
   ],
   "source": [
    "acc_task1 = accuracy(pred, y)\n",
    "acc_task1"
   ]
  },
  {
   "cell_type": "markdown",
   "metadata": {},
   "source": [
    "#### Second task Training"
   ]
  },
  {
   "cell_type": "code",
   "execution_count": 26,
   "metadata": {},
   "outputs": [
    {
     "name": "stderr",
     "output_type": "stream",
     "text": [
      "100%|████████████████████████████████████████████████████████████████████████████| 80/80 [00:38<00:00,  2.05epoch/s, Train Loss=0.432, Eval Acc=0.476]\n"
     ]
    }
   ],
   "source": [
    "tlosses_task2, elosses_task2, embs_task2 = incremental_train(task=1)"
   ]
  },
  {
   "cell_type": "code",
   "execution_count": 27,
   "metadata": {},
   "outputs": [
    {
     "data": {
      "image/png": "[encoded data removed]",
      "text/plain": [
       "<Figure size 640x480 with 1 Axes>"
      ]
     },
     "metadata": {},
     "output_type": "display_data"
    }
   ],
   "source": [
    "plt.plot(tlosses_task2, label=\"train\")\n",
    "plt.plot(elosses_task2, label=\"test\")\n",
    "plt.title(\"Loss train vs test in second task\")\n",
    "plt.legend()\n",
    "plt.plot();"
   ]
  },
  {
   "cell_type": "code",
   "execution_count": 29,
   "metadata": {},
   "outputs": [
    {
     "name": "stdout",
     "output_type": "stream",
     "text": [
      "tensor([[ 0.8902, -0.4861],\n",
      "        [-0.1426,  0.3958],\n",
      "        [-0.4983,  0.2453],\n",
      "        [-1.2503, -0.9789],\n",
      "        [ 0.1272, -1.3246]], device='cuda:0', grad_fn=<CopySlices>)\n"
     ]
    }
   ],
   "source": [
    "print(embs_task2)"
   ]
  },
  {
   "cell_type": "code",
   "execution_count": 35,
   "metadata": {},
   "outputs": [],
   "source": [
    "embs = torch.cat([embs, embs_task2], 0)"
   ]
  },
  {
   "cell_type": "code",
   "execution_count": 36,
   "metadata": {},
   "outputs": [
    {
     "name": "stdout",
     "output_type": "stream",
     "text": [
      "torch.Size([500, 3, 32, 32])\n",
      "torch.Size([500])\n",
      "tensor([0, 8, 8, 4, 6, 9, 2, 7, 6, 0, 9, 8, 1, 4, 4, 8, 9, 4, 7, 6, 6, 2, 0, 0,\n",
      "        4, 6, 1, 6, 7, 8, 2, 7, 5, 9, 7, 7, 0, 6, 3, 6, 3, 2, 8, 2, 5, 9, 7, 5,\n",
      "        2, 6, 0, 8, 4, 0, 3, 2, 8, 6, 2, 8, 1, 2, 9, 7, 9, 3, 1, 4, 0, 0, 3, 8,\n",
      "        7, 0, 5, 1, 6, 1, 1, 7, 1, 0, 1, 3, 4, 8, 7, 7, 0, 1, 6, 6, 7, 6, 9, 1,\n",
      "        2, 8, 2, 9, 6, 3, 2, 9, 2, 0, 9, 1, 0, 3, 8, 6, 9, 2, 3, 7, 7, 1, 8, 4,\n",
      "        1, 1, 9, 9, 0, 5, 2, 2, 3, 5, 5, 7, 6, 5, 5, 3, 3, 0, 0, 4, 5, 9, 6, 1,\n",
      "        5, 5, 6, 0, 4, 8, 5, 8, 5, 8, 9, 9, 4, 8, 3, 2, 7, 9, 3, 7, 9, 3, 6, 9,\n",
      "        3, 5, 3, 7, 2, 2, 3, 8, 7, 5, 7, 2, 5, 0, 3, 3, 1, 8, 1, 2, 6, 1, 5, 3,\n",
      "        2, 7, 7, 6, 9, 4, 3, 0, 9, 4, 6, 2, 2, 7, 8, 9, 1, 3, 5, 4, 5, 5, 0, 6,\n",
      "        7, 3, 8, 2, 4, 3, 6, 2, 7, 4, 6, 0, 5, 7, 4, 3, 0, 3, 1, 9, 2, 1, 5, 6,\n",
      "        0, 5, 5, 5, 3, 5, 0, 9, 1, 6, 3, 8, 0, 8, 9, 0, 6, 8, 9, 5, 4, 5, 3, 5,\n",
      "        4, 6, 0, 4, 2, 3, 2, 4, 7, 2, 6, 5, 5, 2, 7, 6, 5, 4, 2, 4, 3, 9, 1, 5,\n",
      "        4, 3, 6, 0, 8, 3, 4, 1, 3, 5, 6, 5, 5, 2, 0, 9, 7, 0, 9, 2, 0, 7, 9, 3,\n",
      "        3, 8, 6, 8, 7, 0, 1, 6, 7, 6, 3, 9, 1, 4, 3, 2, 3, 1, 9, 9, 7, 4, 5, 6,\n",
      "        6, 9, 6, 9, 4, 1, 7, 7, 4, 6, 2, 3, 8, 0, 6, 1, 9, 5, 8, 3, 8, 2, 1, 0,\n",
      "        1, 0, 7, 3, 6, 0, 4, 2, 9, 2, 2, 8, 2, 7, 3, 7, 8, 3, 0, 8, 1, 4, 0, 1,\n",
      "        0, 4, 0, 0, 5, 0, 5, 1, 6, 5, 3, 3, 4, 1, 8, 9, 7, 7, 9, 4, 5, 1, 8, 6,\n",
      "        6, 7, 1, 6, 1, 7, 5, 7, 2, 2, 9, 2, 9, 0, 6, 8, 3, 4, 0, 1, 8, 3, 4, 5,\n",
      "        5, 8, 8, 2, 0, 3, 1, 4, 9, 8, 9, 9, 0, 0, 3, 6, 1, 1, 2, 7, 7, 5, 2, 0,\n",
      "        7, 4, 1, 1, 7, 5, 6, 3, 5, 2, 8, 7, 4, 7, 7, 4, 3, 0, 1, 8, 1, 0, 0, 9,\n",
      "        7, 3, 5, 9, 1, 6, 4, 0, 8, 7, 1, 4, 9, 4, 5, 6, 9, 7, 8, 6],\n",
      "       device='cuda:0')\n"
     ]
    }
   ],
   "source": [
    "x, y = next(get_batches(data, \"eval\", batchsize=500,paired=False, indices=range(10)))\n",
    "print(x.shape)\n",
    "print(y.shape)\n",
    "print(y)"
   ]
  },
  {
   "cell_type": "code",
   "execution_count": 37,
   "metadata": {},
   "outputs": [
    {
     "data": {
      "text/plain": [
       "tensor([6, 8, 8, 2, 6, 9, 5, 6, 6, 6, 9, 8, 2, 7, 8, 8, 9, 8, 7, 6, 6, 2, 5, 6,\n",
       "        8, 5, 6, 6, 6, 8, 2, 8, 5, 9, 7, 7, 2, 6, 6, 6, 7, 8, 8, 2, 5, 9, 7, 5,\n",
       "        9, 6, 7, 2, 5, 5, 9, 2, 8, 3, 5, 8, 8, 5, 9, 6, 6, 6, 6, 6, 5, 2, 8, 8,\n",
       "        7, 2, 5, 8, 9, 2, 5, 7, 2, 2, 9, 7, 6, 9, 7, 7, 6, 5, 6, 6, 7, 6, 9, 6,\n",
       "        7, 8, 5, 9, 6, 8, 6, 9, 5, 6, 9, 2, 5, 7, 8, 6, 9, 2, 7, 7, 6, 6, 3, 8,\n",
       "        8, 5, 9, 9, 5, 5, 2, 5, 7, 5, 5, 7, 6, 2, 5, 8, 7, 7, 7, 7, 8, 9, 6, 6,\n",
       "        5, 5, 6, 2, 3, 2, 5, 8, 5, 8, 9, 9, 8, 8, 6, 2, 7, 9, 3, 6, 9, 5, 7, 9,\n",
       "        7, 5, 7, 2, 6, 5, 7, 8, 7, 6, 7, 5, 5, 5, 7, 8, 5, 3, 5, 5, 6, 2, 5, 7,\n",
       "        5, 7, 7, 6, 7, 6, 7, 5, 9, 5, 6, 9, 2, 3, 8, 9, 6, 7, 5, 7, 5, 5, 2, 6,\n",
       "        8, 5, 8, 8, 2, 3, 6, 6, 7, 2, 6, 6, 9, 7, 8, 7, 2, 7, 6, 9, 6, 5, 5, 6,\n",
       "        5, 5, 5, 5, 7, 2, 7, 2, 5, 6, 6, 8, 2, 8, 9, 5, 6, 8, 9, 8, 7, 5, 5, 5,\n",
       "        5, 6, 5, 6, 7, 2, 5, 6, 6, 2, 6, 5, 5, 9, 6, 7, 5, 8, 8, 8, 6, 9, 5, 2,\n",
       "        5, 6, 7, 6, 8, 6, 3, 6, 8, 5, 7, 5, 5, 6, 9, 2, 7, 5, 6, 5, 5, 7, 7, 2,\n",
       "        7, 8, 6, 8, 7, 5, 6, 6, 7, 6, 7, 9, 5, 5, 6, 5, 8, 2, 9, 9, 7, 7, 5, 6,\n",
       "        6, 9, 6, 9, 2, 6, 7, 6, 7, 7, 2, 6, 8, 6, 6, 7, 9, 5, 8, 7, 8, 5, 5, 6,\n",
       "        8, 2, 7, 5, 8, 5, 5, 8, 9, 5, 8, 8, 5, 7, 7, 6, 8, 5, 6, 8, 6, 3, 5, 7,\n",
       "        5, 3, 5, 6, 5, 6, 5, 2, 6, 5, 9, 8, 5, 5, 8, 9, 7, 7, 9, 5, 5, 2, 8, 6,\n",
       "        6, 7, 8, 6, 5, 7, 5, 7, 5, 5, 8, 5, 9, 5, 7, 8, 6, 8, 5, 6, 8, 8, 7, 9,\n",
       "        5, 8, 8, 5, 2, 7, 6, 8, 9, 7, 9, 9, 2, 2, 5, 5, 2, 8, 5, 7, 8, 5, 3, 5,\n",
       "        7, 7, 6, 6, 7, 2, 6, 6, 5, 2, 8, 7, 2, 6, 7, 7, 7, 5, 5, 8, 6, 7, 6, 2,\n",
       "        7, 7, 2, 9, 5, 6, 6, 5, 8, 6, 6, 6, 9, 2, 5, 6, 9, 7, 2, 6],\n",
       "       device='cuda:0')"
      ]
     },
     "execution_count": 37,
     "metadata": {},
     "output_type": "execute_result"
    }
   ],
   "source": [
    "pred = classify(x, embs)\n",
    "pred"
   ]
  },
  {
   "cell_type": "code",
   "execution_count": 39,
   "metadata": {},
   "outputs": [
    {
     "data": {
      "text/plain": [
       "tensor(0.4260, device='cuda:0')"
      ]
     },
     "execution_count": 39,
     "metadata": {},
     "output_type": "execute_result"
    }
   ],
   "source": [
    "acc_task2 = accuracy(pred, y)\n",
    "acc_task2"
   ]
  },
  {
   "cell_type": "markdown",
   "metadata": {},
   "source": [
    "## Review results"
   ]
  },
  {
   "cell_type": "code",
   "execution_count": 41,
   "metadata": {},
   "outputs": [
    {
     "data": {
      "image/png": "[encoded data removed]",
      "text/plain": [
       "<Figure size 800x600 with 1 Axes>"
      ]
     },
     "metadata": {},
     "output_type": "display_data"
    }
   ],
   "source": [
    "import matplotlib.pyplot as plt\n",
    "\n",
    "# Sample data (replace with your actual data)\n",
    "methods = ['Task 1', 'Task2']\n",
    "accuracies = [acc_task1.item(), acc_task2.item()]\n",
    "\n",
    "# Create a bar plot\n",
    "plt.figure(figsize=(8, 6))\n",
    "plt.bar(methods, accuracies, color=['blue', 'green'])\n",
    "\n",
    "# Add labels and title\n",
    "plt.xlabel('Tasks')\n",
    "plt.ylabel('Accuracy')\n",
    "plt.title('Comparison of Accuracy Between Task 1 and Task 2')\n",
    "\n",
    "# Add data values on top of the bars\n",
    "for i, accuracy in enumerate(accuracies):\n",
    "    plt.text(i, accuracy + 0.01, f'{accuracy:.2f}', ha='center')\n",
    "\n",
    "# Show the plot\n",
    "plt.ylim(0, 1)  # Set y-axis limit between 0 and 1\n",
    "plt.show()\n"
   ]
  }
 ],
 "metadata": {
  "kernelspec": {
   "display_name": "base",
   "language": "python",
   "name": "python3"
  },
  "language_info": {
   "codemirror_mode": {
    "name": "ipython",
    "version": 3
   },
   "file_extension": ".py",
   "mimetype": "text/x-python",
   "name": "python",
   "nbconvert_exporter": "python",
   "pygments_lexer": "ipython3",
   "version": "3.11.6"
  }
 },
 "nbformat": 4,
 "nbformat_minor": 4
}
