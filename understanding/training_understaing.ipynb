{
 "cells": [
  {
   "cell_type": "code",
   "execution_count": 1,
   "metadata": {},
   "outputs": [
    {
     "name": "stdout",
     "output_type": "stream",
     "text": [
      "Files already downloaded and verified\n",
      "Files already downloaded and verified\n"
     ]
    }
   ],
   "source": [
    "from utils.data_manager import DataManager\n",
    "import numpy as np\n",
    "\n",
    "data_manager = DataManager(\"cifar100\", True, 1993, 5, 5)"
   ]
  },
  {
   "cell_type": "code",
   "execution_count": 2,
   "metadata": {},
   "outputs": [],
   "source": [
    "init_epoch = 200\n",
    "batch_size = 128 \n",
    "num_workers = 0\n",
    "device = \"cuda:0\"\n",
    "\n",
    "\n",
    "train_dataset = data_manager.get_dataset(\n",
    "            np.arange(0, 5),\n",
    "            source=\"train\",\n",
    "            mode=\"train\",\n",
    "        )\n",
    "train_loader = DataLoader(\n",
    "    train_dataset, batch_size=batch_size, shuffle=True, num_workers=num_workers\n",
    ")"
   ]
  },
  {
   "cell_type": "code",
   "execution_count": 3,
   "metadata": {},
   "outputs": [
    {
     "data": {
      "text/plain": [
       "2500"
      ]
     },
     "execution_count": 3,
     "metadata": {},
     "output_type": "execute_result"
    }
   ],
   "source": [
    "len(train_dataset)"
   ]
  },
  {
   "cell_type": "code",
   "execution_count": null,
   "metadata": {},
   "outputs": [],
   "source": [
    "prog_bar = tqdm(range(init_epoch))\n",
    "for _, epoch in enumerate(prog_bar):\n",
    "    for i, (_, inputs, targets) in enumerate(train_loader):\n",
    "        inputs, targets = inputs.to(device), targets.to(device)\n",
    "    info = \"Task {}, Epoch {}/{} => Loss {:.3f}, Train_accy {:.2f}\".format(\n",
    "            0,\n",
    "            epoch + 1,\n",
    "            init_epoch,\n",
    "            0\n",
    "            1,\n",
    "        )\n",
    "    prog_bar.set_description(info)\n",
    "    print(epoch)"
   ]
  },
  {
   "cell_type": "code",
   "execution_count": null,
   "metadata": {},
   "outputs": [],
   "source": []
  }
 ],
 "metadata": {
  "kernelspec": {
   "display_name": "torch2",
   "language": "python",
   "name": "python3"
  },
  "language_info": {
   "codemirror_mode": {
    "name": "ipython",
    "version": 3
   },
   "file_extension": ".py",
   "mimetype": "text/x-python",
   "name": "python",
   "nbconvert_exporter": "python",
   "pygments_lexer": "ipython3",
   "version": "3.9.18"
  },
  "orig_nbformat": 4
 },
 "nbformat": 4,
 "nbformat_minor": 2
}
